{
 "cells": [
  {
   "cell_type": "markdown",
   "metadata": {},
   "source": [
    "### ATP show length stats\n",
    "\n",
    "Inspired by [this tweet](https://twitter.com/caseyliss/status/905639864087007232), I wanted to see how it ranked among other ATP episodes. Surprisingly, it is the fifth longest episode in the past 100 shows.\n"
   ]
  },
  {
   "cell_type": "code",
   "execution_count": 1,
   "metadata": {},
   "outputs": [],
   "source": [
    "import time\n",
    "from time import mktime\n",
    "from datetime import datetime\n",
    "import feedparser`\n",
    "from bs4 import BeautifulSoup\n",
    "import pandas as pd\n",
    "import numpy as np\n",
    "import seaborn as sns\n",
    "import matplotlib.pyplot as plt\n",
    "\n",
    "%matplotlib inline"
   ]
  },
  {
   "cell_type": "code",
   "execution_count": 2,
   "metadata": {
    "collapsed": true
   },
   "outputs": [],
   "source": [
    "def get_total_hours(dt):\n",
    "    return (dt.hour*3600 + dt.minute*60 + dt.second)/3600.0"
   ]
  },
  {
   "cell_type": "code",
   "execution_count": 3,
   "metadata": {
    "collapsed": true
   },
   "outputs": [],
   "source": [
    "def parse_title(full_title):\n",
    "    episode_num, title = full_title.split(':')\n",
    "    title = title.strip()\n",
    "    return int(episode_num), title"
   ]
  },
  {
   "cell_type": "markdown",
   "metadata": {},
   "source": [
    "Unfortunately the RSS feed only has the last 100 episodes"
   ]
  },
  {
   "cell_type": "code",
   "execution_count": 4,
   "metadata": {
    "collapsed": true
   },
   "outputs": [],
   "source": [
    "atp_url = 'http://atp.fm/episodes?format=rss'\n",
    "feed = feedparser.parse(atp_url)"
   ]
  },
  {
   "cell_type": "code",
   "execution_count": 5,
   "metadata": {},
   "outputs": [],
   "source": [
    "pod_data = []\n",
    "for x in feed['entries']:\n",
    "    episode_num, title = parse_title(x['title'])\n",
    "    pub_date = datetime.fromtimestamp(mktime(x['published_parsed'])).date()\n",
    "    duration = datetime.strptime(x['itunes_duration'], '%H:%M:%S').time()\n",
    "    duration_hours = get_total_hours(duration)\n",
    "    \n",
    "    pod_data.append((episode_num, title, duration, pub_date, duration_hours))"
   ]
  },
  {
   "cell_type": "code",
   "execution_count": 6,
   "metadata": {
    "collapsed": true
   },
   "outputs": [],
   "source": [
    "df = pd.DataFrame(pod_data, columns=['episode', 'title', 'duration', 'pub_date', 'duration_hours'])\n",
    "df = df.sort_values(by='episode')\n",
    "df = df.set_index('episode', drop=False)"
   ]
  },
  {
   "cell_type": "code",
   "execution_count": 26,
   "metadata": {},
   "outputs": [],
   "source": [
    "min_time = df['duration'].min()\n",
    "median_time = df['duration_hours'].median()\n",
    "max_time = df['duration'].max()"
   ]
  },
  {
   "cell_type": "code",
   "execution_count": 64,
   "metadata": {},
   "outputs": [
    {
     "data": {
      "text/plain": [
       "1.9030555555555555"
      ]
     },
     "execution_count": 64,
     "metadata": {},
     "output_type": "execute_result"
    }
   ],
   "source": [
    "median_time"
   ]
  },
  {
   "cell_type": "markdown",
   "metadata": {},
   "source": [
    "### Let's look at the shortest show"
   ]
  },
  {
   "cell_type": "code",
   "execution_count": 51,
   "metadata": {},
   "outputs": [
    {
     "data": {
      "text/html": [
       "<div>\n",
       "<style>\n",
       "    .dataframe thead tr:only-child th {\n",
       "        text-align: right;\n",
       "    }\n",
       "\n",
       "    .dataframe thead th {\n",
       "        text-align: left;\n",
       "    }\n",
       "\n",
       "    .dataframe tbody tr th {\n",
       "        vertical-align: top;\n",
       "    }\n",
       "</style>\n",
       "<table border=\"1\" class=\"dataframe\">\n",
       "  <thead>\n",
       "    <tr style=\"text-align: right;\">\n",
       "      <th></th>\n",
       "      <th>episode</th>\n",
       "      <th>title</th>\n",
       "      <th>duration</th>\n",
       "      <th>pub_date</th>\n",
       "      <th>duration_hours</th>\n",
       "    </tr>\n",
       "    <tr>\n",
       "      <th>episode</th>\n",
       "      <th></th>\n",
       "      <th></th>\n",
       "      <th></th>\n",
       "      <th></th>\n",
       "      <th></th>\n",
       "    </tr>\n",
       "  </thead>\n",
       "  <tbody>\n",
       "    <tr>\n",
       "      <th>176</th>\n",
       "      <td>176</td>\n",
       "      <td>Yellow Sock Time</td>\n",
       "      <td>01:23:17</td>\n",
       "      <td>2016-06-30</td>\n",
       "      <td>1.388056</td>\n",
       "    </tr>\n",
       "  </tbody>\n",
       "</table>\n",
       "</div>"
      ],
      "text/plain": [
       "         episode             title  duration    pub_date  duration_hours\n",
       "episode                                                                 \n",
       "176          176  Yellow Sock Time  01:23:17  2016-06-30        1.388056"
      ]
     },
     "execution_count": 51,
     "metadata": {},
     "output_type": "execute_result"
    }
   ],
   "source": [
    "shortest_episode = df['duration_hours'].idxmin()\n",
    "df[df['episode'] == shortest_episode]"
   ]
  },
  {
   "cell_type": "markdown",
   "metadata": {},
   "source": [
    "### The longest show"
   ]
  },
  {
   "cell_type": "code",
   "execution_count": 52,
   "metadata": {},
   "outputs": [
    {
     "data": {
      "text/html": [
       "<div>\n",
       "<style>\n",
       "    .dataframe thead tr:only-child th {\n",
       "        text-align: right;\n",
       "    }\n",
       "\n",
       "    .dataframe thead th {\n",
       "        text-align: left;\n",
       "    }\n",
       "\n",
       "    .dataframe tbody tr th {\n",
       "        vertical-align: top;\n",
       "    }\n",
       "</style>\n",
       "<table border=\"1\" class=\"dataframe\">\n",
       "  <thead>\n",
       "    <tr style=\"text-align: right;\">\n",
       "      <th></th>\n",
       "      <th>episode</th>\n",
       "      <th>title</th>\n",
       "      <th>duration</th>\n",
       "      <th>pub_date</th>\n",
       "      <th>duration_hours</th>\n",
       "    </tr>\n",
       "    <tr>\n",
       "      <th>episode</th>\n",
       "      <th></th>\n",
       "      <th></th>\n",
       "      <th></th>\n",
       "      <th></th>\n",
       "      <th></th>\n",
       "    </tr>\n",
       "  </thead>\n",
       "  <tbody>\n",
       "    <tr>\n",
       "      <th>186</th>\n",
       "      <td>186</td>\n",
       "      <td>Jony Ive Has a Lot of White Pants</td>\n",
       "      <td>03:14:06</td>\n",
       "      <td>2016-09-08</td>\n",
       "      <td>3.235</td>\n",
       "    </tr>\n",
       "  </tbody>\n",
       "</table>\n",
       "</div>"
      ],
      "text/plain": [
       "         episode                              title  duration    pub_date  \\\n",
       "episode                                                                     \n",
       "186          186  Jony Ive Has a Lot of White Pants  03:14:06  2016-09-08   \n",
       "\n",
       "         duration_hours  \n",
       "episode                  \n",
       "186               3.235  "
      ]
     },
     "execution_count": 52,
     "metadata": {},
     "output_type": "execute_result"
    }
   ],
   "source": [
    "longest_episode = df['duration_hours'].idxmax()\n",
    "df[df['episode'] == longest_episode]"
   ]
  },
  {
   "cell_type": "code",
   "execution_count": 62,
   "metadata": {},
   "outputs": [],
   "source": [
    "ranked = df['duration_hours'].rank()"
   ]
  },
  {
   "cell_type": "code",
   "execution_count": 63,
   "metadata": {},
   "outputs": [
    {
     "data": {
      "text/plain": [
       "96.0"
      ]
     },
     "execution_count": 63,
     "metadata": {},
     "output_type": "execute_result"
    }
   ],
   "source": [
    "ranked.loc[238]"
   ]
  },
  {
   "cell_type": "markdown",
   "metadata": {},
   "source": [
    "This means that episode 238 was the 5th longest show in the past 100 episodes. Let's take a look at all of the episodes together:"
   ]
  },
  {
   "cell_type": "code",
   "execution_count": 69,
   "metadata": {},
   "outputs": [
    {
     "data": {
      "image/png": "[encoded data removed]",
      "text/plain": [
       "<matplotlib.figure.Figure at 0x7f7a6ffb4d30>"
      ]
     },
     "metadata": {},
     "output_type": "display_data"
    }
   ],
   "source": [
    "ax = df['duration_hours'].plot()\n",
    "ax.axhline(y=median_time, c='black', )\n",
    "ax.set_xlabel('Episode number')\n",
    "ax.set_ylabel('Episode duration (hours)')\n",
    "plt.savefig('atp_show.png', dpi=300)"
   ]
  },
  {
   "cell_type": "markdown",
   "metadata": {},
   "source": [
    "The median show length (plotted in black is approximately ~1:54:00). The latest episode (238) does not look abnormally long, especially compared to recent episodes"
   ]
  }
 ],
 "metadata": {
  "kernelspec": {
   "display_name": "Python 3",
   "language": "python",
   "name": "python3"
  },
  "language_info": {
   "codemirror_mode": {
    "name": "ipython",
    "version": 3
   },
   "file_extension": ".py",
   "mimetype": "text/x-python",
   "name": "python",
   "nbconvert_exporter": "python",
   "pygments_lexer": "ipython3",
   "version": "3.6.1"
  }
 },
 "nbformat": 4,
 "nbformat_minor": 2
}
